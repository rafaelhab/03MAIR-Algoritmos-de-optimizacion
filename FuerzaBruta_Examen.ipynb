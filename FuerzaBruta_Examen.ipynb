{
  "nbformat": 4,
  "nbformat_minor": 0,
  "metadata": {
    "colab": {
      "name": "FuerzaBruta_Examen.ipynb",
      "version": "0.3.2",
      "provenance": [],
      "include_colab_link": true
    },
    "kernelspec": {
      "name": "python3",
      "display_name": "Python 3"
    }
  },
  "cells": [
    {
      "cell_type": "markdown",
      "metadata": {
        "id": "view-in-github",
        "colab_type": "text"
      },
      "source": [
        "<a href=\"https://colab.research.google.com/github/rafaelhab/03MAIR-Algoritmos-de-optimizacion/blob/master/FuerzaBruta_Examen.ipynb\" target=\"_parent\"><img src=\"https://colab.research.google.com/assets/colab-badge.svg\" alt=\"Open In Colab\"/></a>"
      ]
    },
    {
      "metadata": {
        "id": "vptgNwnh9EPl",
        "colab_type": "code",
        "colab": {
          "base_uri": "https://localhost:8080/",
          "height": 187
        },
        "outputId": "3820d153-73f5-449f-b705-2423635c1047"
      },
      "cell_type": "code",
      "source": [
        "import numpy as np\n",
        "import random\n",
        "#Lista2 = [(random.randrange(1,10),random.randrange(1,10)) for _ in range(10) ]\n",
        "Lista2 = [((random.randrange(1,10)),(random.randrange(1,10))) for _ in range(10)]\n",
        "List2 = sorted(Lista2, key=lambda x: x[0]) #N\n",
        "List2"
      ],
      "execution_count": 26,
      "outputs": [
        {
          "output_type": "execute_result",
          "data": {
            "text/plain": [
              "[(1, 8),\n",
              " (2, 4),\n",
              " (2, 7),\n",
              " (2, 4),\n",
              " (4, 7),\n",
              " (5, 3),\n",
              " (6, 8),\n",
              " (6, 4),\n",
              " (6, 6),\n",
              " (8, 1)]"
            ]
          },
          "metadata": {
            "tags": []
          },
          "execution_count": 26
        }
      ]
    },
    {
      "metadata": {
        "id": "ArklTAKxQfhp",
        "colab_type": "code",
        "colab": {}
      },
      "cell_type": "code",
      "source": [
        "suma=[]\n",
        "for i in range(len(List2)): #2N\n",
        "  suma.append(List2[i][0]+List2[i][1])\n",
        "suma.sort(reverse=True)"
      ],
      "execution_count": 0,
      "outputs": []
    },
    {
      "metadata": {
        "id": "43fh8rpbUdYU",
        "colab_type": "code",
        "colab": {
          "base_uri": "https://localhost:8080/",
          "height": 34
        },
        "outputId": "dddf7509-1eb6-45e9-ff37-4747a8fd98aa"
      },
      "cell_type": "code",
      "source": [
        "print(suma)"
      ],
      "execution_count": 77,
      "outputs": [
        {
          "output_type": "stream",
          "text": [
            "[14, 12, 11, 10, 9, 9, 9, 8, 6, 6]\n"
          ],
          "name": "stdout"
        }
      ]
    },
    {
      "metadata": {
        "id": "U9A8NOegUiq3",
        "colab_type": "code",
        "colab": {}
      },
      "cell_type": "code",
      "source": [
        "menores_x=[]\n",
        "for i in range(len(List2)): #3N\n",
        "  if List2[i][0] not in menores_x:\n",
        "    menores_x.append(List2[i][0])\n",
        "  "
      ],
      "execution_count": 0,
      "outputs": []
    },
    {
      "metadata": {
        "id": "oFJK7iWAWMrt",
        "colab_type": "code",
        "colab": {
          "base_uri": "https://localhost:8080/",
          "height": 34
        },
        "outputId": "c85c1303-6003-4664-c630-adb3049fd968"
      },
      "cell_type": "code",
      "source": [
        "menores_x"
      ],
      "execution_count": 84,
      "outputs": [
        {
          "output_type": "execute_result",
          "data": {
            "text/plain": [
              "[1, 2, 4, 5, 6, 8]"
            ]
          },
          "metadata": {
            "tags": []
          },
          "execution_count": 84
        }
      ]
    },
    {
      "metadata": {
        "id": "FJUqXqwfWP2N",
        "colab_type": "code",
        "colab": {}
      },
      "cell_type": "code",
      "source": [
        "escalera=[]\n",
        "for i in range(len(menores_x)): #4N\n",
        "  escalera.append([menores_x[i],suma[i]])"
      ],
      "execution_count": 0,
      "outputs": []
    },
    {
      "metadata": {
        "id": "PE5Lc2TUXeA7",
        "colab_type": "code",
        "colab": {
          "base_uri": "https://localhost:8080/",
          "height": 34
        },
        "outputId": "aacb6f9d-4b62-4670-8788-7f0e6742d41f"
      },
      "cell_type": "code",
      "source": [
        "escalera"
      ],
      "execution_count": 97,
      "outputs": [
        {
          "output_type": "execute_result",
          "data": {
            "text/plain": [
              "[[1, 14], [2, 12], [4, 11], [5, 10], [6, 9], [8, 9]]"
            ]
          },
          "metadata": {
            "tags": []
          },
          "execution_count": 97
        }
      ]
    },
    {
      "metadata": {
        "id": "B_PoIOOwX8H1",
        "colab_type": "text"
      },
      "cell_type": "markdown",
      "source": [
        "Complejidad es de 4N+5"
      ]
    }
  ]
}