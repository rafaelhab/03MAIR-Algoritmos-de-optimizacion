{
  "nbformat": 4,
  "nbformat_minor": 0,
  "metadata": {
    "colab": {
      "name": "GeneticAlgorithm_GuessWord.ipynb",
      "version": "0.3.2",
      "provenance": [],
      "collapsed_sections": [],
      "include_colab_link": true
    },
    "language_info": {
      "codemirror_mode": {
        "name": "ipython",
        "version": 3
      },
      "file_extension": ".py",
      "mimetype": "text/x-python",
      "name": "python",
      "nbconvert_exporter": "python",
      "pygments_lexer": "ipython3",
      "version": "3.6.8"
    },
    "kernelspec": {
      "display_name": "Python 3",
      "language": "python",
      "name": "python3"
    }
  },
  "cells": [
    {
      "cell_type": "markdown",
      "metadata": {
        "id": "view-in-github",
        "colab_type": "text"
      },
      "source": [
        "<a href=\"https://colab.research.google.com/github/rafaelhab/03MAIR-Algoritmos-de-optimizacion/blob/master/GeneticAlgorithm_GuessWord.ipynb\" target=\"_parent\"><img src=\"https://colab.research.google.com/assets/colab-badge.svg\" alt=\"Open In Colab\"/></a>"
      ]
    },
    {
      "metadata": {
        "id": "0x_qJF0NGMmf",
        "colab_type": "text"
      },
      "cell_type": "markdown",
      "source": [
        "GENES"
      ]
    },
    {
      "metadata": {
        "id": "stBeeAb9GMmg",
        "colab_type": "code",
        "colab": {}
      },
      "cell_type": "code",
      "source": [
        "geneSet = \" abcdefghijklmnñopqrstuvwxyzABCDEFGHIJKLMNÑOPQRSTUVWXYZ!.\"\n",
        "target = \"This is my first program using GA\""
      ],
      "execution_count": 0,
      "outputs": []
    },
    {
      "metadata": {
        "id": "L3C1qjfYGMmn",
        "colab_type": "text"
      },
      "cell_type": "markdown",
      "source": [
        "GENERATE A GUESS"
      ]
    },
    {
      "metadata": {
        "id": "ZsmRU57ZGMmp",
        "colab_type": "code",
        "colab": {}
      },
      "cell_type": "code",
      "source": [
        "import random\n",
        "\n",
        "def generate_parent(length):\n",
        "    genes = []\n",
        "    while len(genes) < length:\n",
        "        sampleSize = min(length - len(genes), len(geneSet))\n",
        "        genes.extend(random.sample(geneSet, sampleSize))\n",
        "    return ''.join(genes)"
      ],
      "execution_count": 0,
      "outputs": []
    },
    {
      "metadata": {
        "id": "ZRY7Bkb6GMmt",
        "colab_type": "text"
      },
      "cell_type": "markdown",
      "source": [
        "FITNESS"
      ]
    },
    {
      "metadata": {
        "id": "J1DTC6oXGMmv",
        "colab_type": "code",
        "colab": {}
      },
      "cell_type": "code",
      "source": [
        "def get_fitness(guess):\n",
        "    return sum(1 for expected, actual in zip(target, guess)\n",
        "                                            if expected == actual)"
      ],
      "execution_count": 0,
      "outputs": []
    },
    {
      "metadata": {
        "id": "nFohiM_QGMm0",
        "colab_type": "text"
      },
      "cell_type": "markdown",
      "source": [
        "MUTATION"
      ]
    },
    {
      "metadata": {
        "id": "y1ViDos2GMm2",
        "colab_type": "code",
        "colab": {}
      },
      "cell_type": "code",
      "source": [
        "def mutate(parent):\n",
        "    index = random.randrange(0, len(parent))\n",
        "    childGenes = list(parent)\n",
        "    newGene, alternate = random.sample(geneSet,2)\n",
        "    childGenes[index] = alternate if newGene == childGenes[index] else newGene\n",
        "    return ''.join(childGenes)"
      ],
      "execution_count": 0,
      "outputs": []
    },
    {
      "metadata": {
        "id": "-asL363_GMm7",
        "colab_type": "text"
      },
      "cell_type": "markdown",
      "source": [
        "DISPLAY"
      ]
    },
    {
      "metadata": {
        "id": "0kLmGAyHGMm8",
        "colab_type": "code",
        "colab": {}
      },
      "cell_type": "code",
      "source": [
        "import datetime\n",
        "\n",
        "def display(guess):\n",
        "    timeDiff = datetime.datetime.now() - startTime\n",
        "    fitness = get_fitness(guess)\n",
        "    print(\"{}\\t{}\\t{}\".format(guess, fitness, timeDiff))"
      ],
      "execution_count": 0,
      "outputs": []
    },
    {
      "metadata": {
        "id": "aUWxwYjKGMnA",
        "colab_type": "text"
      },
      "cell_type": "markdown",
      "source": [
        "MAIN"
      ]
    },
    {
      "metadata": {
        "id": "ACO_71SDGMnC",
        "colab_type": "code",
        "colab": {
          "base_uri": "https://localhost:8080/",
          "height": 34
        },
        "outputId": "79caa935-5627-4c1b-c78a-c625d03498be"
      },
      "cell_type": "code",
      "source": [
        "random.seed()\n",
        "startTime = datetime.datetime.now()\n",
        "bestParent = generate_parent(len(target))\n",
        "bestFitness = get_fitness(bestParent)\n",
        "display(bestParent)"
      ],
      "execution_count": 6,
      "outputs": [
        {
          "output_type": "stream",
          "text": [
            " i!bZpLÑEcejxXuUfY.qShJPHONRDkMñl\t0\t0:00:00.000626\n"
          ],
          "name": "stdout"
        }
      ]
    },
    {
      "metadata": {
        "id": "Y_BW533LGMnJ",
        "colab_type": "code",
        "colab": {
          "base_uri": "https://localhost:8080/",
          "height": 578
        },
        "outputId": "3bd02dd7-9f30-46b6-f0f5-d66d028bf32e"
      },
      "cell_type": "code",
      "source": [
        "while True:\n",
        "    child = mutate(bestParent)\n",
        "    childFitness = get_fitness(child)\n",
        "    #print(child)\n",
        "    if bestFitness >= childFitness:\n",
        "        #print(bestFitness)\n",
        "        continue\n",
        "    display(child)\n",
        "    if childFitness >= len(bestParent):\n",
        "        break\n",
        "    bestFitness = childFitness\n",
        "    bestParent = child"
      ],
      "execution_count": 7,
      "outputs": [
        {
          "output_type": "stream",
          "text": [
            " i!bZpLÑEcejxXuUfY.qShJPHONRnkMñl\t1\t0:00:02.663384\n",
            " i!bZpLÑEcejxXuU Y.qShJPHONRnkMñl\t2\t0:00:02.666927\n",
            " i!sZpLÑEcejxXuU Y.qShJPHONRnkMñl\t3\t0:00:02.667715\n",
            " i!sZpLÑEcejxXuU Y.qghJPHONRnkMñl\t4\t0:00:02.669326\n",
            " i!sZpsÑEcejxXuU Y.qghJPHONRnkMñl\t5\t0:00:02.669744\n",
            " h!sZpsÑEcejxXuU Y.qghJPHONRnkMñl\t6\t0:00:02.670773\n",
            " h!sZpsÑEcejxruU Y.qghJPHONRnkMñl\t7\t0:00:02.671950\n",
            " h!sZpsÑmcejxruU Y.qghJPHONRnkMñl\t8\t0:00:02.672921\n",
            " h!sZpsÑmcejxruU Y.qghJPHONRngMñl\t9\t0:00:02.673314\n",
            " h!sZpsÑmcejxruU Y.qghJPHONRng ñl\t10\t0:00:02.673824\n",
            " h!sZpsÑmcefxruU Y.qghJPHONRng ñl\t11\t0:00:02.675498\n",
            " h!sZpsÑmcefxruU Y.qgrJPHONRng ñl\t12\t0:00:02.675867\n",
            " hisZpsÑmcefxruU Y.qgrJPHONRng ñl\t13\t0:00:02.677183\n",
            " hisZpsÑmcefiruU Y.qgrJPHONRng ñl\t14\t0:00:02.678448\n",
            " hisZpsÑmcefiruU Y.qgrJP ONRng ñl\t15\t0:00:02.679617\n",
            " hisZpsÑmyefiruU Y.qgrJP ONRng ñl\t16\t0:00:02.681319\n",
            " hisZps myefiruU Y.qgrJP ONRng ñl\t17\t0:00:02.681960\n",
            " his ps myefiruU Y.qgrJP ONRng ñl\t18\t0:00:02.682929\n",
            " his ps myefiruU Y.qgrJP uNRng ñl\t19\t0:00:02.686194\n",
            " his ps myefiruU Y.qgrJm uNRng ñl\t20\t0:00:02.687052\n",
            " his ps my firuU Y.qgrJm uNRng ñl\t21\t0:00:02.687435\n",
            " his ps my firuU Y.qgram uNRng ñl\t22\t0:00:02.689302\n",
            " his ps my firuU Y.ogram uNRng ñl\t23\t0:00:02.690066\n",
            " his ps my firuU Y.ogram uNRng Gl\t24\t0:00:02.692935\n",
            " his ps my firuU Yrogram uNRng Gl\t25\t0:00:02.693061\n",
            " his is my firuU Yrogram uNRng Gl\t26\t0:00:02.696772\n",
            " his is my firsU Yrogram uNRng Gl\t27\t0:00:02.700583\n",
            " his is my first Yrogram uNRng Gl\t28\t0:00:02.719726\n",
            " his is my first Yrogram uNing Gl\t29\t0:00:02.726603\n",
            " his is my first Yrogram uNing GA\t30\t0:00:02.754197\n",
            " his is my first program uNing GA\t31\t0:00:02.759299\n",
            "This is my first program uNing GA\t32\t0:00:02.783636\n",
            "This is my first program using GA\t33\t0:00:02.789658\n"
          ],
          "name": "stdout"
        }
      ]
    }
  ]
}