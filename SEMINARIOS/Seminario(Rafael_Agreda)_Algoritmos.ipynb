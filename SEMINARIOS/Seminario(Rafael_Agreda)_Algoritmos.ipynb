{
  "nbformat": 4,
  "nbformat_minor": 0,
  "metadata": {
    "colab": {
      "name": "Seminario(Rafael Agreda) - Algoritmos.ipynb",
      "version": "0.3.2",
      "provenance": [],
      "collapsed_sections": [],
      "include_colab_link": true
    },
    "kernelspec": {
      "name": "python3",
      "display_name": "Python 3"
    }
  },
  "cells": [
    {
      "cell_type": "markdown",
      "metadata": {
        "id": "view-in-github",
        "colab_type": "text"
      },
      "source": [
        "<a href=\"https://colab.research.google.com/github/rafaelhab/03MAIR-Algoritmos-de-optimizacion/blob/master/SEMINARIOS/Seminario(Rafael_Agreda)_Algoritmos.ipynb\" target=\"_parent\"><img src=\"https://colab.research.google.com/assets/colab-badge.svg\" alt=\"Open In Colab\"/></a>"
      ]
    },
    {
      "metadata": {
        "id": "hVbXYX-RfPWh",
        "colab_type": "text"
      },
      "cell_type": "markdown",
      "source": [
        "# Algoritmos de optimización - Seminario<br>\n",
        "Nombre y Apellidos:  Rafael Agreda  <br>\n",
        "Url: https://github.com/rafaelhab/03MAIR-Algoritmos-de-optimizacion/tree/master/SEMINARIOS<br>\n",
        "Problema:\n",
        "> 1. Elección de grupos de población homogéneos <br>\n",
        "\n",
        "Descripción del problema:\n",
        "\n",
        "• Una productora ganadera nos encarga la tarea de seleccionar grupos de\n",
        "terneros para aplicar 3 tratamientos diferentes. Para cada uno de los\n",
        "tratamientos debemos seleccionar 3 grupos de terneros que sean lo mas\n",
        "homogéneos posible en peso para que en los resultados del tratamiento influya\n",
        "lo menos posible el peso del animal. Disponemos de una población de N\n",
        "animales entre machos y hembras<br>\n",
        "• Se solicita diseñar un algoritmo para conseguir una agrupación que cumpla de la\n",
        "mejor manera posible las especificaciones de la productora.\n",
        "\n",
        "(*) La respuesta es obligatoria\n",
        "\n",
        "\n",
        "\n",
        "\n",
        "\n",
        "                                        "
      ]
    },
    {
      "metadata": {
        "id": "THK-yu5gJ-3P",
        "colab_type": "code",
        "colab": {}
      },
      "cell_type": "code",
      "source": [
        "#Decorador para calcular_tiempo a la función para la cual queremos calcular el tiempo de ejecución(Isabel Vázquez)\n",
        "\n",
        "from time import time\n",
        "#Función para calcular el tiempo de ejecución\n",
        "def calcular_tiempo(f):\n",
        "   \n",
        "    def wrapper(*args, **kwargs):        \n",
        "        inicio = time()       \n",
        "        resultado = f(*args, **kwargs)       \n",
        "        tiempo = time() - inicio\n",
        "        print(\"Tiempo de ejecución para algoritmo: \"+str(tiempo))\n",
        "        return resultado\n",
        "    \n",
        "    return wrapper\n",
        "from time import time"
      ],
      "execution_count": 0,
      "outputs": []
    },
    {
      "metadata": {
        "id": "9avUXeS1Ov5E",
        "colab_type": "text"
      },
      "cell_type": "markdown",
      "source": [
        "Generación aleatoria de datos, tomando en cuenta el peso medio (37 kg) y la desviación estandar (2.1)<br>\n"
      ]
    },
    {
      "metadata": {
        "id": "AiskKkzZfy4e",
        "colab_type": "code",
        "outputId": "3d6cdd80-1af0-4a2b-dde7-e5e871ae869c",
        "colab": {
          "base_uri": "https://localhost:8080/",
          "height": 54
        }
      },
      "cell_type": "code",
      "source": [
        "import random\n",
        "import math\n",
        "\n",
        "N=10000\n",
        "Peso_Medio=37\n",
        "Desv=2.1\n",
        "MinP=(Peso_Medio-Desv)\n",
        "MaxP=(Peso_Medio+Desv)\n",
        "\n",
        "List = [ (( _+1),round(random.uniform(MinP,MaxP),2),(round(random.uniform(0, 1)))) for _ in range(N)]\n",
        "print(List[:100])\n",
        "#print(*List, sep = \"\\n\")\n",
        "#El sexo del animal estaría clasificado como 1 y 0 en la tercera columna"
      ],
      "execution_count": 2,
      "outputs": [
        {
          "output_type": "stream",
          "text": [
            "[(1, 37.98, 0), (2, 35.35, 1), (3, 36.59, 1), (4, 38.48, 1), (5, 39.1, 1), (6, 36.65, 0), (7, 36.17, 0), (8, 37.72, 1), (9, 38.68, 0), (10, 35.81, 0), (11, 37.0, 1), (12, 37.07, 0), (13, 38.76, 1), (14, 35.5, 0), (15, 38.35, 1), (16, 35.43, 0), (17, 35.33, 0), (18, 35.53, 1), (19, 36.58, 0), (20, 39.09, 1), (21, 35.12, 0), (22, 36.17, 1), (23, 35.73, 1), (24, 37.39, 0), (25, 37.87, 0), (26, 37.02, 0), (27, 35.63, 0), (28, 38.18, 1), (29, 34.97, 0), (30, 35.25, 1), (31, 36.89, 1), (32, 36.48, 1), (33, 37.93, 0), (34, 35.05, 0), (35, 35.36, 0), (36, 35.19, 1), (37, 38.6, 1), (38, 37.98, 0), (39, 38.59, 1), (40, 35.88, 1), (41, 36.46, 1), (42, 38.14, 1), (43, 34.93, 1), (44, 35.85, 0), (45, 34.99, 0), (46, 38.72, 1), (47, 38.21, 0), (48, 35.18, 0), (49, 35.72, 1), (50, 36.82, 0), (51, 34.9, 0), (52, 36.28, 0), (53, 35.64, 0), (54, 36.72, 1), (55, 35.74, 1), (56, 37.29, 0), (57, 37.44, 0), (58, 38.08, 1), (59, 35.63, 0), (60, 36.21, 0), (61, 37.57, 0), (62, 36.46, 0), (63, 34.98, 0), (64, 36.48, 0), (65, 35.98, 0), (66, 35.06, 0), (67, 35.79, 1), (68, 35.11, 0), (69, 38.77, 1), (70, 37.4, 0), (71, 39.02, 1), (72, 36.3, 0), (73, 36.58, 1), (74, 37.08, 1), (75, 37.54, 1), (76, 37.28, 0), (77, 37.14, 0), (78, 37.85, 0), (79, 35.36, 1), (80, 38.21, 0), (81, 37.58, 1), (82, 35.46, 1), (83, 38.41, 1), (84, 36.24, 1), (85, 36.28, 0), (86, 35.58, 1), (87, 36.57, 0), (88, 38.37, 0), (89, 38.77, 1), (90, 39.04, 1), (91, 36.73, 0), (92, 38.39, 0), (93, 37.45, 0), (94, 35.11, 0), (95, 36.45, 1), (96, 37.27, 0), (97, 35.29, 1), (98, 34.97, 0), (99, 37.36, 0), (100, 35.89, 1)]\n"
          ],
          "name": "stdout"
        }
      ]
    },
    {
      "metadata": {
        "id": "3_-exlrTgLd-",
        "colab_type": "text"
      },
      "cell_type": "markdown",
      "source": [
        "(*)¿Cuantas posibilidades hay sin tener en cuenta las restricciones?<br>\n",
        "\n",
        "\n",
        "\n",
        "¿Cuantas posibilidades hay teniendo en cuenta todas las restricciones.\n",
        "\n",
        "\n"
      ]
    },
    {
      "metadata": {
        "id": "WfCUqJyKhPcw",
        "colab_type": "text"
      },
      "cell_type": "markdown",
      "source": [
        "Respuesta"
      ]
    },
    {
      "metadata": {
        "id": "iq6Fe32MgpDX",
        "colab_type": "code",
        "outputId": "6eb1a0f7-a79e-457d-b8cb-436d1a2fbf7c",
        "colab": {
          "base_uri": "https://localhost:8080/",
          "height": 68
        }
      },
      "cell_type": "code",
      "source": [
        "#Tamaño de N elevado al número de grupos (9)\n",
        "print('Posibles soluciones sin tener en cuenta las restricciones: N^9 ', pow(N,9))\n",
        "print('Restricciones:')\n",
        "print('Grupos Homogéneos en peso, Las posibles soluciones deberían ser (N^9)/9 ', pow(N,9)/9)"
      ],
      "execution_count": 3,
      "outputs": [
        {
          "output_type": "stream",
          "text": [
            "Posibles soluciones sin tener en cuenta las restricciones: N^9  1000000000000000000000000000000000000\n",
            "Restricciones:\n",
            "Grupos Homogéneos en peso, Las posibles soluciones deberían ser (N^9)/9  1.1111111111111111e+35\n"
          ],
          "name": "stdout"
        }
      ]
    },
    {
      "metadata": {
        "id": "dzynfVJahHoY",
        "colab_type": "text"
      },
      "cell_type": "markdown",
      "source": [
        "Modelo para el espacio de soluciones<br>\n",
        "(*) ¿Cual es la estructura de datos que mejor se adapta al problema? Argumentalo.(Es posible que hayas elegido una al principio y veas la necesidad de cambiar, argumentalo)\n"
      ]
    },
    {
      "metadata": {
        "id": "xFIJrOwKi2Ti",
        "colab_type": "text"
      },
      "cell_type": "markdown",
      "source": [
        "La mejor estructura de datos es trabajar con un arreglo para poder hacer slicing y ordenar los datos buscando ser lo mas homogeneo posible."
      ]
    },
    {
      "metadata": {
        "id": "38c-7-ejhJmA",
        "colab_type": "code",
        "colab": {}
      },
      "cell_type": "code",
      "source": [
        ""
      ],
      "execution_count": 0,
      "outputs": []
    },
    {
      "metadata": {
        "id": "7Z9U2W7bi-XS",
        "colab_type": "text"
      },
      "cell_type": "markdown",
      "source": [
        "Según el modelo para el espacio de soluciones<br>\n",
        "(*)¿Cual es la función objetivo?\n",
        "\n",
        "(*)¿Es un problema de maximización o minimización?"
      ]
    },
    {
      "metadata": {
        "id": "hBalWLM7j1_d",
        "colab_type": "text"
      },
      "cell_type": "markdown",
      "source": [
        "Pienso que la función objetivo es la distribución de cada registro minimizando la desviación estandar del peso. <br>\n",
        "Es una función de Minimización."
      ]
    },
    {
      "metadata": {
        "id": "pDA-rg3Gj5Lz",
        "colab_type": "code",
        "colab": {}
      },
      "cell_type": "code",
      "source": [
        ""
      ],
      "execution_count": 0,
      "outputs": []
    },
    {
      "metadata": {
        "id": "rlnTYgY1j6I2",
        "colab_type": "text"
      },
      "cell_type": "markdown",
      "source": [
        "Diseña un algoritmo para resolver el problema por fuerza bruta"
      ]
    },
    {
      "metadata": {
        "id": "70rDgxYXkC8r",
        "colab_type": "text"
      },
      "cell_type": "markdown",
      "source": [
        "Respuesta"
      ]
    },
    {
      "metadata": {
        "id": "CJb5sQ0qkENy",
        "colab_type": "code",
        "colab": {}
      },
      "cell_type": "code",
      "source": [
        "#La generación de datos la creé usando la media y desviación estándar\n",
        "#Ordeno la lista por peso\n",
        "def fuerza_bruta(List):\n",
        "  List_ordenada=sorted(List, key=lambda x: x[1])\n",
        "  Tamaño = N//9\n",
        "  for i in range(N):\n",
        "    if i < Tamaño:\n",
        "      L1_1.append(List_ordenada[i])\n",
        "    elif i < Tamaño*2:\n",
        "      L1_2.append(List_ordenada[i])\n",
        "    elif i < Tamaño*3:\n",
        "      L1_3.append(List_ordenada[i])\n",
        "    elif i < Tamaño*4:\n",
        "      L2_1.append(List_ordenada[i])\n",
        "    elif i < Tamaño*5:\n",
        "      L2_2.append(List_ordenada[i])\n",
        "    elif i < Tamaño*6:\n",
        "      L2_3.append(List_ordenada[i])\n",
        "    elif i < Tamaño*7:\n",
        "      L3_1.append(List_ordenada[i])\n",
        "    elif i < Tamaño*8:\n",
        "      L3_2.append(List_ordenada[i])\n",
        "    else:\n",
        "      L3_3.append(List_ordenada[i])"
      ],
      "execution_count": 0,
      "outputs": []
    },
    {
      "metadata": {
        "id": "Xlg1hMCIPAsj",
        "colab_type": "text"
      },
      "cell_type": "markdown",
      "source": [
        "Selección de Grupos <br>\n",
        "Los grupos serán asignados así <br>\n",
        "\n",
        "\n",
        "*   L1_1   |   L1_2   |   L1_3\n",
        "*   L2_1   |   L2_2   |   L2_3\n",
        "*   L3_1   |   L3_2   |   L3_3"
      ]
    },
    {
      "metadata": {
        "id": "eYmKk4RALEga",
        "colab_type": "code",
        "outputId": "0a78dca5-d26b-40fe-f4e2-1a007319e9a4",
        "colab": {
          "base_uri": "https://localhost:8080/",
          "height": 34
        }
      },
      "cell_type": "code",
      "source": [
        "L1_1,L1_2,L1_3=[],[],[]\n",
        "L2_1,L2_2,L2_3=[],[],[]\n",
        "L3_1,L3_2,L3_3=[],[],[]\n",
        "\n",
        "@calcular_tiempo  \n",
        "def A1(List):\n",
        "  return fuerza_bruta(List)\n",
        "  \n",
        "SOL = A1(List)"
      ],
      "execution_count": 5,
      "outputs": [
        {
          "output_type": "stream",
          "text": [
            "Tiempo de ejecución para algoritmo: 0.008907318115234375\n"
          ],
          "name": "stdout"
        }
      ]
    },
    {
      "metadata": {
        "id": "SwWEjuUWLDPi",
        "colab_type": "code",
        "outputId": "4e869c74-2284-4df6-a998-1ecbf89a9497",
        "colab": {
          "base_uri": "https://localhost:8080/",
          "height": 71
        }
      },
      "cell_type": "code",
      "source": [
        "#Prueba\n",
        "print(L1_2[:50])\n",
        "print(L3_3[:50])"
      ],
      "execution_count": 6,
      "outputs": [
        {
          "output_type": "stream",
          "text": [
            "[(79, 35.36, 1), (261, 35.36, 0), (507, 35.36, 1), (740, 35.36, 0), (1483, 35.36, 1), (2152, 35.36, 0), (2660, 35.36, 0), (3513, 35.36, 0), (3713, 35.36, 1), (3814, 35.36, 0), (3987, 35.36, 1), (6298, 35.36, 0), (6808, 35.36, 1), (7479, 35.36, 1), (7872, 35.36, 1), (8230, 35.36, 1), (8367, 35.36, 0), (8541, 35.36, 1), (8774, 35.36, 1), (8979, 35.36, 0), (9267, 35.36, 1), (9944, 35.36, 1), (451, 35.37, 1), (593, 35.37, 1), (1871, 35.37, 0), (1995, 35.37, 1), (2668, 35.37, 0), (2952, 35.37, 1), (3495, 35.37, 1), (4045, 35.37, 1), (4973, 35.37, 1), (5088, 35.37, 0), (5356, 35.37, 1), (6029, 35.37, 0), (6249, 35.37, 0), (6520, 35.37, 0), (7296, 35.37, 1), (8437, 35.37, 1), (8822, 35.37, 1), (8855, 35.37, 0), (9030, 35.37, 0), (118, 35.38, 0), (1321, 35.38, 0), (1555, 35.38, 0), (2123, 35.38, 1), (2156, 35.38, 0), (2206, 35.38, 0), (3405, 35.38, 0), (3718, 35.38, 1), (4910, 35.38, 1)]\n",
            "[(873, 38.64, 1), (1514, 38.64, 0), (2055, 38.64, 0), (2900, 38.64, 1), (3355, 38.64, 0), (3579, 38.64, 0), (3982, 38.64, 0), (4255, 38.64, 0), (4285, 38.64, 0), (4595, 38.64, 0), (4676, 38.64, 1), (5753, 38.64, 0), (5859, 38.64, 1), (6238, 38.64, 0), (6873, 38.64, 0), (7029, 38.64, 1), (7941, 38.64, 1), (7969, 38.64, 1), (7985, 38.64, 1), (8243, 38.64, 0), (8646, 38.64, 1), (8939, 38.64, 1), (9227, 38.64, 1), (9812, 38.64, 1), (364, 38.65, 1), (458, 38.65, 0), (845, 38.65, 0), (1136, 38.65, 0), (1269, 38.65, 0), (1426, 38.65, 1), (1671, 38.65, 1), (2250, 38.65, 1), (3480, 38.65, 0), (3617, 38.65, 0), (4253, 38.65, 0), (4278, 38.65, 1), (4503, 38.65, 0), (4543, 38.65, 0), (4609, 38.65, 0), (4891, 38.65, 1), (5490, 38.65, 1), (6002, 38.65, 0), (6117, 38.65, 0), (6332, 38.65, 1), (6419, 38.65, 1), (6851, 38.65, 0), (7060, 38.65, 0), (7596, 38.65, 0), (7627, 38.65, 0), (7636, 38.65, 1)]\n"
          ],
          "name": "stdout"
        }
      ]
    },
    {
      "metadata": {
        "id": "tgrnsC2nkFa8",
        "colab_type": "text"
      },
      "cell_type": "markdown",
      "source": [
        "Calcula la complejidad del algoritmo por fuerza bruta"
      ]
    },
    {
      "metadata": {
        "id": "9eUd3xwckP68",
        "colab_type": "text"
      },
      "cell_type": "markdown",
      "source": [
        "Respuesta<br>\n",
        "\n",
        "La complejidad sería:\n",
        "*   Recorro la lista para ordenar y luego con el for para repartir los datos.\n",
        "*   hago 9 if\n",
        "*   hago 9 asignaciones\n",
        "\n",
        "\n",
        "Complejidad: 2N + 18"
      ]
    },
    {
      "metadata": {
        "id": "rvZWwL-ckRST",
        "colab_type": "code",
        "colab": {}
      },
      "cell_type": "code",
      "source": [
        ""
      ],
      "execution_count": 0,
      "outputs": []
    },
    {
      "metadata": {
        "id": "txbrmLmskReM",
        "colab_type": "text"
      },
      "cell_type": "markdown",
      "source": [
        "(*)Diseña un algoritmo que mejore la complejidad del algortimo por fuerza bruta. Argumenta porque crees que mejora el algoritmo por fuerza bruta"
      ]
    },
    {
      "metadata": {
        "id": "hLrVwt5QkZPD",
        "colab_type": "text"
      },
      "cell_type": "markdown",
      "source": [
        "Respuesta <br>\n",
        "Seleccione el algoritmo divide y venceras. <br>\n",
        "Usando recursividad dado que son 3 grupos dividiré la list (List) en 3 y luego cuando tenga el tamaño del subgrupo, lo asignaré a la nueva lista llamada LGroup. <br>\n",
        "Usando el Index podré acceder a cada grupo. <br>\n",
        "\n"
      ]
    },
    {
      "metadata": {
        "id": "m1eyM21Vkabg",
        "colab_type": "code",
        "colab": {}
      },
      "cell_type": "code",
      "source": [
        "def divide_venceras_ganado(List, LGroup, level=0):\n",
        "  #Ordena solo en la primera iteración\n",
        "  if level==0:\n",
        "    List_ordenada=sorted(List, key=lambda x: x[1])\n",
        "  else:\n",
        "    List_ordenada=List\n",
        "  \n",
        "  G1 = List_ordenada[:len(List_ordenada)//3]\n",
        "  G2 = List_ordenada[len(List_ordenada)//3:len(List_ordenada)-(len(List_ordenada)//3)]\n",
        "  G3 = List_ordenada[len(List_ordenada)-(len(List_ordenada)//3):]\n",
        "  \n",
        "  #Al ser dividido en grupos iguales, con saber que G1 es igual al subgrupo, todos los demás lo serán\n",
        "  if len(G1)<=N//3//3:\n",
        "    LGroup.append(G1)\n",
        "    LGroup.append(G2)\n",
        "    LGroup.append(G3)\n",
        "    return LGroup\n",
        "  return divide_venceras_ganado(G1,LGroup,level=level+1), divide_venceras_ganado(G2,LGroup,level=level+1), divide_venceras_ganado(G3,LGroup,level=level+1)\n",
        "  "
      ],
      "execution_count": 0,
      "outputs": []
    },
    {
      "metadata": {
        "id": "X3Na-rGL2icX",
        "colab_type": "code",
        "outputId": "213c2d20-63db-4fe6-b006-4e875f9f3dc3",
        "colab": {
          "base_uri": "https://localhost:8080/",
          "height": 34
        }
      },
      "cell_type": "code",
      "source": [
        "@calcular_tiempo  \n",
        "def A2(List):\n",
        "  return divide_venceras_ganado(List,LGroup)\n",
        "LGroup=[]  \n",
        "SOL = A2(List)"
      ],
      "execution_count": 8,
      "outputs": [
        {
          "output_type": "stream",
          "text": [
            "Tiempo de ejecución para algoritmo: 0.0048792362213134766\n"
          ],
          "name": "stdout"
        }
      ]
    },
    {
      "metadata": {
        "id": "VKd9RJGl9uy0",
        "colab_type": "code",
        "outputId": "23e04070-5323-4f09-8768-ce4ad638f141",
        "colab": {
          "base_uri": "https://localhost:8080/",
          "height": 88
        }
      },
      "cell_type": "code",
      "source": [
        "#Prueba\n",
        "print(len(LGroup[1]),len(LGroup[5]),len(LGroup[8]))\n",
        "print(LGroup[1][:50])\n",
        "print(LGroup[5][:50])"
      ],
      "execution_count": 12,
      "outputs": [
        {
          "output_type": "stream",
          "text": [
            "1111 1111 1111\n",
            "[(79, 35.36, 1), (261, 35.36, 0), (507, 35.36, 1), (740, 35.36, 0), (1483, 35.36, 1), (2152, 35.36, 0), (2660, 35.36, 0), (3513, 35.36, 0), (3713, 35.36, 1), (3814, 35.36, 0), (3987, 35.36, 1), (6298, 35.36, 0), (6808, 35.36, 1), (7479, 35.36, 1), (7872, 35.36, 1), (8230, 35.36, 1), (8367, 35.36, 0), (8541, 35.36, 1), (8774, 35.36, 1), (8979, 35.36, 0), (9267, 35.36, 1), (9944, 35.36, 1), (451, 35.37, 1), (593, 35.37, 1), (1871, 35.37, 0), (1995, 35.37, 1), (2668, 35.37, 0), (2952, 35.37, 1), (3495, 35.37, 1), (4045, 35.37, 1), (4973, 35.37, 1), (5088, 35.37, 0), (5356, 35.37, 1), (6029, 35.37, 0), (6249, 35.37, 0), (6520, 35.37, 0), (7296, 35.37, 1), (8437, 35.37, 1), (8822, 35.37, 1), (8855, 35.37, 0), (9030, 35.37, 0), (118, 35.38, 0), (1321, 35.38, 0), (1555, 35.38, 0), (2123, 35.38, 1), (2156, 35.38, 0), (2206, 35.38, 0), (3405, 35.38, 0), (3718, 35.38, 1), (4910, 35.38, 1)]\n",
            "[(2304, 37.24, 0), (2346, 37.24, 1), (3045, 37.24, 1), (3484, 37.24, 0), (3549, 37.24, 0), (3600, 37.24, 0), (4476, 37.24, 0), (4868, 37.24, 1), (5311, 37.24, 0), (5713, 37.24, 1), (6038, 37.24, 0), (6074, 37.24, 0), (6600, 37.24, 0), (7006, 37.24, 0), (7477, 37.24, 0), (9358, 37.24, 1), (379, 37.25, 0), (1682, 37.25, 0), (2412, 37.25, 0), (2444, 37.25, 1), (2858, 37.25, 0), (2892, 37.25, 1), (3043, 37.25, 0), (3240, 37.25, 0), (3412, 37.25, 0), (4076, 37.25, 0), (4792, 37.25, 1), (4926, 37.25, 1), (5120, 37.25, 1), (5274, 37.25, 0), (5491, 37.25, 0), (5496, 37.25, 1), (5777, 37.25, 1), (5924, 37.25, 0), (6510, 37.25, 0), (6719, 37.25, 0), (7178, 37.25, 1), (7206, 37.25, 1), (7474, 37.25, 0), (7646, 37.25, 1), (7676, 37.25, 1), (8252, 37.25, 0), (8814, 37.25, 0), (9591, 37.25, 0), (473, 37.26, 0), (1896, 37.26, 0), (2199, 37.26, 0), (2926, 37.26, 0), (3290, 37.26, 0), (3929, 37.26, 0)]\n"
          ],
          "name": "stdout"
        }
      ]
    },
    {
      "metadata": {
        "id": "eGDB4K6uk1iN",
        "colab_type": "text"
      },
      "cell_type": "markdown",
      "source": [
        "(*)Calcula la complejidad del algoritmo "
      ]
    },
    {
      "metadata": {
        "id": "NhpTh_BPk1ms",
        "colab_type": "text"
      },
      "cell_type": "markdown",
      "source": [
        "Respuesta<br>\n",
        "\n",
        "La complejidad es NlogN"
      ]
    },
    {
      "metadata": {
        "id": "nREzhkStlCq8",
        "colab_type": "code",
        "colab": {}
      },
      "cell_type": "code",
      "source": [
        ""
      ],
      "execution_count": 0,
      "outputs": []
    },
    {
      "metadata": {
        "id": "3M6QjTsSkmYe",
        "colab_type": "text"
      },
      "cell_type": "markdown",
      "source": [
        "Según el problema (y tenga sentido), diseña un juego de datos de entrada aleatorios"
      ]
    },
    {
      "metadata": {
        "id": "Jc3_OlyNkvjZ",
        "colab_type": "text"
      },
      "cell_type": "markdown",
      "source": [
        "Respuesta<br>\n",
        "El set de datos aleatorios fué creado usando los datos de media y desviación estandar.\n",
        "El número de datos se definió con la variable N\n",
        "Se generaron los datos aleatorios entre peso medio +- desviación estandar \n"
      ]
    },
    {
      "metadata": {
        "id": "sJ-N2etjkyWc",
        "colab_type": "code",
        "colab": {}
      },
      "cell_type": "code",
      "source": [
        ""
      ],
      "execution_count": 0,
      "outputs": []
    },
    {
      "metadata": {
        "id": "zy5ZROmjlGo1",
        "colab_type": "text"
      },
      "cell_type": "markdown",
      "source": [
        "Aplica el algoritmo al juego de datos generado"
      ]
    },
    {
      "metadata": {
        "id": "_Cmj-PVylMsa",
        "colab_type": "text"
      },
      "cell_type": "markdown",
      "source": [
        "Respuesta<br>\n",
        "Fue aplicado, dando una pequeña mejora que va creciendo a medida que el set de datos es mayor.\n",
        "\n",
        "Con 100 registros dió un tiempo muy similar, mientras que con 10000 registros el algoritmo mejorado dió la mitad del tiempo."
      ]
    },
    {
      "metadata": {
        "id": "Jkx8GeiYlUz1",
        "colab_type": "code",
        "colab": {}
      },
      "cell_type": "code",
      "source": [
        ""
      ],
      "execution_count": 0,
      "outputs": []
    },
    {
      "metadata": {
        "colab_type": "text",
        "id": "eTFWUJQrtGcv"
      },
      "cell_type": "markdown",
      "source": [
        "Enumera las referencias que has utilizado(si ha sido necesario) para llevar a cabo el trabajo"
      ]
    },
    {
      "metadata": {
        "id": "YKQ_mRBttWsP",
        "colab_type": "text"
      },
      "cell_type": "markdown",
      "source": [
        "Respuesta<br>\n",
        "O'Reilly, Python for Data Analysis<br>\n",
        "Stack Overflow: https://stackoverflow.com\n"
      ]
    },
    {
      "metadata": {
        "id": "kAkDPUyRtYyH",
        "colab_type": "text"
      },
      "cell_type": "markdown",
      "source": [
        "Describe brevemente las lineas de como crees que es posible avanzar en el estudio del problema. Ten en cuenta incluso posibles variaciones del problema y/o variaciones al alza del tamaño"
      ]
    },
    {
      "metadata": {
        "id": "IE0uZmo-tZu-",
        "colab_type": "text"
      },
      "cell_type": "markdown",
      "source": [
        "Respuesta<br>\n",
        "El problema podría tener la complejidad de que los grupos puedan ser heterogeneos en cantidad.<br>\n",
        "O también ser clasificados por nuevos atributos y buscar la homogeneidad entre esos otros atributos.<br>"
      ]
    }
  ]
}